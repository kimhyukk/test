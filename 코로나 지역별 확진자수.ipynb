{
 "cells": [
  {
   "cell_type": "code",
   "execution_count": 99,
   "id": "a30c0173",
   "metadata": {},
   "outputs": [
    {
     "name": "stderr",
     "output_type": "stream",
     "text": [
      "\n",
      "\n",
      "====== WebDriver manager ======\n",
      "Current google-chrome version is 97.0.4692\n",
      "Get LATEST chromedriver version for 97.0.4692 google-chrome\n",
      "Driver [C:\\Users\\rlagu\\.wdm\\drivers\\chromedriver\\win32\\97.0.4692.71\\chromedriver.exe] found in cache\n"
     ]
    }
   ],
   "source": [
    "from selenium import webdriver\n",
    "from webdriver_manager.chrome import ChromeDriverManager\n",
    "driver=webdriver.Chrome(ChromeDriverManager().install())"
   ]
  },
  {
   "cell_type": "code",
   "execution_count": 102,
   "id": "2187551e",
   "metadata": {},
   "outputs": [],
   "source": [
    "from bs4 import BeautifulSoup"
   ]
  },
  {
   "cell_type": "code",
   "execution_count": 103,
   "id": "183f700b",
   "metadata": {},
   "outputs": [],
   "source": [
    "url=\"https://search.naver.com/search.naver?where=nexearch&sm=tab_etc&qvt=0&query=%EC%BD%94%EB%A1%9C%EB%82%9819\"\n",
    "driver.get(url)"
   ]
  },
  {
   "cell_type": "code",
   "execution_count": 104,
   "id": "e8006a1d",
   "metadata": {},
   "outputs": [],
   "source": [
    "html=driver.page_source\n",
    "soup=BeautifulSoup(html,'html.parser')"
   ]
  },
  {
   "cell_type": "code",
   "execution_count": 106,
   "id": "88ea8be6",
   "metadata": {},
   "outputs": [],
   "source": [
    "driver.find_elements_by_css_selector(\"span.menu\")[3].click()\n"
   ]
  },
  {
   "cell_type": "code",
   "execution_count": 107,
   "id": "8ba38dbf",
   "metadata": {},
   "outputs": [],
   "source": [
    "driver.find_elements_by_css_selector(\"span.menu\")[5].click()"
   ]
  },
  {
   "cell_type": "code",
   "execution_count": 123,
   "id": "65ac58f5",
   "metadata": {},
   "outputs": [
    {
     "data": {
      "text/plain": [
       "'3,991'"
      ]
     },
     "execution_count": 123,
     "metadata": {},
     "output_type": "execute_result"
    }
   ],
   "source": [
    "#<div class=\"csp_table_area\"> <div class=\"type_basic _table\" style=\"display: block;\"> <table class=\"table\"> <caption class=\"u_hc\">지역별 확진환자수</caption> <colgroup> <col width=\"33.33%\"> <col width=\"33.34%\"> <col width=\"33.33%\"> </colgroup> <thead> <tr> <th scope=\"col\" class=\"align_center\">지역</th> <th scope=\"col\" class=\"align_center\">누적확진자</th> <th scope=\"col\" class=\"align_center\">신규확진자</th> </tr> </thead> <tbody> <tr> <td class=\"align_center\"> <span class=\"text\"> <a onclick=\"return goOtherCR(this,&quot;a=nco_xxe*1&amp;r=1&amp;i=&quot;+urlencode(&quot;80202lh0_000000D39981&quot;)+&quot;&amp;u=&quot;+urlencode(this.href));\" href=\"http://www.seoul.go.kr/coronaV/coronaStatus.do\" class=\"link_more\">서울</a> </span> </td> <td class=\"align_right\"><span class=\"text\">264,748</span></td> <td class=\"align_right\"> <span class=\"confirmed_case \">3,991</span> </td> </tr> <tr> <td class=\"align_center\"> <span class=\"text\"> <a onclick=\"return goOtherCR(this,&quot;a=nco_xxe*1&amp;r=1&amp;i=&quot;+urlencode(&quot;80202lh0_000000D39981&quot;)+&quot;&amp;u=&quot;+urlencode(this.href));\" href=\"https://www.gg.go.kr/bbs/boardView.do?bsIdx=464&amp;bIdx=2296956&amp;menuId=1535\" class=\"link_more\">경기</a> </span> </td> <td class=\"align_right\"><span class=\"text\">242,663</span></td> <td class=\"align_right\"> <span class=\"confirmed_case \">5,172</span> </td> </tr> <tr> <td class=\"align_center\"> <span class=\"text\"> <a onclick=\"return goOtherCR(this,&quot;a=nco_xxe*1&amp;r=1&amp;i=&quot;+urlencode(&quot;80202lh0_000000D39981&quot;)+&quot;&amp;u=&quot;+urlencode(this.href));\" href=\"https://www.incheon.go.kr/health/HE020409\" class=\"link_more\">인천</a> </span> </td> <td class=\"align_right\"><span class=\"text\">47,499</span></td> <td class=\"align_right\"> <span class=\"confirmed_case \">1,241</span> </td> </tr> <tr> <td class=\"align_center\"> <span class=\"text\"> <a onclick=\"return goOtherCR(this,&quot;a=nco_xxe*1&amp;r=1&amp;i=&quot;+urlencode(&quot;80202lh0_000000D39981&quot;)+&quot;&amp;u=&quot;+urlencode(this.href));\" href=\"http://www.busan.go.kr/corona19/index\" class=\"link_more\">부산</a> </span> </td> <td class=\"align_right\"><span class=\"text\">32,005</span></td> <td class=\"align_right\"> <span class=\"confirmed_case \">821</span> </td> </tr> <tr> <td class=\"align_center\"> <span class=\"text\"> <a onclick=\"return goOtherCR(this,&quot;a=nco_xxe*1&amp;r=1&amp;i=&quot;+urlencode(&quot;80202lh0_000000D39981&quot;)+&quot;&amp;u=&quot;+urlencode(this.href));\" href=\"http://www.daegu.go.kr/dgcontent/index.do\" class=\"link_more\">대구</a> </span> </td> <td class=\"align_right\"><span class=\"text\">30,296</span></td> <td class=\"align_right\"> <span class=\"confirmed_case \">866</span> </td> </tr> <tr> <td class=\"align_center\"> <span class=\"text\"> <a onclick=\"return goOtherCR(this,&quot;a=nco_xxe*1&amp;r=1&amp;i=&quot;+urlencode(&quot;80202lh0_000000D39981&quot;)+&quot;&amp;u=&quot;+urlencode(this.href));\" href=\"http://www.gyeongnam.go.kr/corona.html\" class=\"link_more\">경남</a> </span> </td> <td class=\"align_right\"><span class=\"text\">26,219</span></td> <td class=\"align_right\"> <span class=\"confirmed_case \">603</span> </td> </tr> <tr> <td class=\"align_center\"> <span class=\"text\"> <a onclick=\"return goOtherCR(this,&quot;a=nco_xxe*1&amp;r=1&amp;i=&quot;+urlencode(&quot;80202lh0_000000D39981&quot;)+&quot;&amp;u=&quot;+urlencode(this.href));\" href=\"http://www.chungnam.go.kr/coronaStatus.do\" class=\"link_more\">충남</a> </span> </td> <td class=\"align_right\"><span class=\"text\">23,110</span></td> <td class=\"align_right\"> <span class=\"confirmed_case \">536</span> </td> </tr> <tr> <td class=\"align_center\"> <span class=\"text\"> <a onclick=\"return goOtherCR(this,&quot;a=nco_xxe*1&amp;r=1&amp;i=&quot;+urlencode(&quot;80202lh0_000000D39981&quot;)+&quot;&amp;u=&quot;+urlencode(this.href));\" href=\"http://www.gb.go.kr/Main/open_contents/section/wel/page.do?mnu_uid=5760&amp;LARGE_CODE=360&amp;MEDIUM_CODE=10&amp;SMALL_CODE=50&amp;SMALL_CODE2=60mnu_order=2\" class=\"link_more\">경북</a> </span> </td> <td class=\"align_right\"><span class=\"text\">20,001</span></td> <td class=\"align_right\"> <span class=\"confirmed_case \">538</span> </td> </tr> </tbody> </table> </div> </div>\n",
    "covidlist=soup.select(\"csp_table_area\")\n",
    "soup.select(\"td.align_center\")[0].text.strip()\n",
    "soup.select(\"span.confirmed_case\")[0].text\n"
   ]
  },
  {
   "cell_type": "code",
   "execution_count": 124,
   "id": "90cf40b1",
   "metadata": {},
   "outputs": [],
   "source": [
    "info=soup.select(\"tr\")"
   ]
  },
  {
   "cell_type": "code",
   "execution_count": 136,
   "id": "56f3fe71",
   "metadata": {},
   "outputs": [
    {
     "data": {
      "text/plain": [
       "[['서울', '3,991'],\n",
       " ['경기', '5,172'],\n",
       " ['인천', '1,241'],\n",
       " ['부산', '821'],\n",
       " ['대구', '866'],\n",
       " ['경남', '603'],\n",
       " ['충남', '536'],\n",
       " ['경북', '538'],\n",
       " ['경북', '538'],\n",
       " ['대전', '369'],\n",
       " ['강원', '212'],\n",
       " ['충북', '299'],\n",
       " ['광주', '422'],\n",
       " ['전북', '381'],\n",
       " ['전남', '327'],\n",
       " ['검역', '46'],\n",
       " ['울산', '158'],\n",
       " ['울산', '158'],\n",
       " ['제주', '44'],\n",
       " ['세종', '59']]"
      ]
     },
     "execution_count": 136,
     "metadata": {},
     "output_type": "execute_result"
    }
   ],
   "source": [
    "h=[]\n",
    "for i in info:\n",
    "    try:\n",
    "        people=i.select_one(\"span.confirmed_case\").text\n",
    "    except:\n",
    "        pass\n",
    "    \n",
    "    try:\n",
    "        area=i.select_one(\"td.align_center\").text.strip()\n",
    "    except:\n",
    "        pass\n",
    "    h.append([area,people])\n",
    "    \n",
    "g=h[1:21]\n",
    "g"
   ]
  },
  {
   "cell_type": "code",
   "execution_count": 138,
   "id": "b9d96ad2",
   "metadata": {},
   "outputs": [
    {
     "name": "stdout",
     "output_type": "stream",
     "text": [
      "[['서울', '3,991'], ['경기', '5,172'], ['인천', '1,241'], ['부산', '821'], ['대구', '866'], ['경남', '603'], ['충남', '536'], ['경북', '538'], ['대전', '369'], ['강원', '212'], ['충북', '299'], ['광주', '422'], ['전북', '381'], ['전남', '327'], ['검역', '46'], ['울산', '158'], ['제주', '44'], ['세종', '59']]\n"
     ]
    }
   ],
   "source": [
    "data_covid=[]\n",
    "for k in g:\n",
    "    if k not in data_covid:\n",
    "        data_covid.append(k)\n",
    "print(data_covid)"
   ]
  },
  {
   "cell_type": "code",
   "execution_count": null,
   "id": "11e43b5e",
   "metadata": {},
   "outputs": [],
   "source": []
  },
  {
   "cell_type": "code",
   "execution_count": null,
   "id": "af1908e7",
   "metadata": {},
   "outputs": [],
   "source": []
  },
  {
   "cell_type": "code",
   "execution_count": null,
   "id": "d07e82df",
   "metadata": {},
   "outputs": [],
   "source": []
  },
  {
   "cell_type": "code",
   "execution_count": null,
   "id": "4781f74b",
   "metadata": {},
   "outputs": [],
   "source": []
  },
  {
   "cell_type": "code",
   "execution_count": null,
   "id": "382d0a34",
   "metadata": {},
   "outputs": [],
   "source": []
  },
  {
   "cell_type": "code",
   "execution_count": null,
   "id": "292ac63c",
   "metadata": {},
   "outputs": [],
   "source": []
  },
  {
   "cell_type": "code",
   "execution_count": null,
   "id": "dfcd4321",
   "metadata": {},
   "outputs": [],
   "source": []
  },
  {
   "cell_type": "code",
   "execution_count": null,
   "id": "0f7ee4db",
   "metadata": {},
   "outputs": [],
   "source": []
  },
  {
   "cell_type": "code",
   "execution_count": null,
   "id": "3a16dcdd",
   "metadata": {},
   "outputs": [],
   "source": []
  },
  {
   "cell_type": "code",
   "execution_count": null,
   "id": "bcdd6cff",
   "metadata": {},
   "outputs": [],
   "source": []
  },
  {
   "cell_type": "code",
   "execution_count": null,
   "id": "343d69d5",
   "metadata": {},
   "outputs": [],
   "source": []
  },
  {
   "cell_type": "code",
   "execution_count": null,
   "id": "a45ce3d5",
   "metadata": {},
   "outputs": [],
   "source": []
  },
  {
   "cell_type": "code",
   "execution_count": null,
   "id": "5c0271df",
   "metadata": {},
   "outputs": [],
   "source": []
  },
  {
   "cell_type": "code",
   "execution_count": null,
   "id": "2072f5db",
   "metadata": {},
   "outputs": [],
   "source": []
  }
 ],
 "metadata": {
  "kernelspec": {
   "display_name": "Python 3 (ipykernel)",
   "language": "python",
   "name": "python3"
  },
  "language_info": {
   "codemirror_mode": {
    "name": "ipython",
    "version": 3
   },
   "file_extension": ".py",
   "mimetype": "text/x-python",
   "name": "python",
   "nbconvert_exporter": "python",
   "pygments_lexer": "ipython3",
   "version": "3.9.7"
  }
 },
 "nbformat": 4,
 "nbformat_minor": 5
}
