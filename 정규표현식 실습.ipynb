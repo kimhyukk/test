{
 "cells": [
  {
   "cell_type": "code",
   "execution_count": 35,
   "id": "d3fe8bfc",
   "metadata": {},
   "outputs": [],
   "source": [
    "emails = ['python@mail.example.com', 'python+kr@example.com',              # 올바른 형식\n",
    "          'python-lang@example.co.kr', 'python_10@example.info',         # 올바른 형식\n",
    "          'python.lang@e-xample.com',                                    # 올바른 형식\n",
    "          '@example.com', 'python@example', 'python@example-com']          # 잘못된 형식"
   ]
  },
  {
   "cell_type": "code",
   "execution_count": 36,
   "id": "6564cbf8",
   "metadata": {},
   "outputs": [],
   "source": [
    "import re"
   ]
  },
  {
   "cell_type": "code",
   "execution_count": 74,
   "id": "c5beda09",
   "metadata": {},
   "outputs": [],
   "source": [
    "p=re.compile(\"[^@]+[@][^@]+[.][com]*[info]*[co.kr]*\")"
   ]
  },
  {
   "cell_type": "code",
   "execution_count": 75,
   "id": "a3deb72f",
   "metadata": {},
   "outputs": [
    {
     "data": {
      "text/plain": [
       "['python@mail.example.com',\n",
       " 'python+kr@example.com',\n",
       " 'python-lang@example.co.kr',\n",
       " 'python_10@example.info',\n",
       " 'python.lang@e-xample.com',\n",
       " '@example.com',\n",
       " 'python@example',\n",
       " 'python@example-com']"
      ]
     },
     "execution_count": 75,
     "metadata": {},
     "output_type": "execute_result"
    }
   ],
   "source": [
    "emails"
   ]
  },
  {
   "cell_type": "code",
   "execution_count": 76,
   "id": "595e28ce",
   "metadata": {},
   "outputs": [
    {
     "ename": "NameError",
     "evalue": "name '이메일주소' is not defined",
     "output_type": "error",
     "traceback": [
      "\u001b[1;31m---------------------------------------------------------------------------\u001b[0m",
      "\u001b[1;31mNameError\u001b[0m                                 Traceback (most recent call last)",
      "\u001b[1;32m~\\AppData\\Local\\Temp/ipykernel_24328/3477358660.py\u001b[0m in \u001b[0;36m<module>\u001b[1;34m\u001b[0m\n\u001b[1;32m----> 1\u001b[1;33m \u001b[0mp\u001b[0m\u001b[1;33m.\u001b[0m\u001b[0mfindall\u001b[0m\u001b[1;33m(\u001b[0m\u001b[0m이메일주소\u001b[0m\u001b[1;33m)\u001b[0m\u001b[1;33m\u001b[0m\u001b[1;33m\u001b[0m\u001b[0m\n\u001b[0m",
      "\u001b[1;31mNameError\u001b[0m: name '이메일주소' is not defined"
     ]
    }
   ],
   "source": [
    "p.findall(이메일주소)"
   ]
  },
  {
   "cell_type": "code",
   "execution_count": 77,
   "id": "dcd5bd95",
   "metadata": {},
   "outputs": [
    {
     "name": "stdout",
     "output_type": "stream",
     "text": [
      "['python@mail.example.com']\n",
      "['python+kr@example.com']\n",
      "['python-lang@example.co.kr']\n",
      "['python_10@example.info']\n",
      "['python.lang@e-xample.com']\n",
      "[]\n",
      "[]\n",
      "[]\n"
     ]
    }
   ],
   "source": [
    "for i in emails:\n",
    "    a=p.findall(i)\n",
    "    print(a)"
   ]
  },
  {
   "cell_type": "code",
   "execution_count": 78,
   "id": "f7e21cb4",
   "metadata": {},
   "outputs": [],
   "source": [
    "news=\"\"\"(서울=연합뉴스) 임성호 기자 = 허경영 국가혁명당 대선 후보가 원내 4개 정당의 후보만 참가하는 방송 토론을 열어서는 안 된다며 법원에 방송금지 가처분 신청을 다시 냈다. 지난달 28일 같은 내용의 1차 가처분 신청이 기각된 지 엿새만이다.\n",
    "허 후보는 이날 오전 서울서부지법을 찾아 KBS·MBC·SBS 등 지상파 3사가 자신을 제외한 이재명 더불어민주당 후보, 윤석열 국민의힘 후보, 안철수 국민의당 후보, 심상정 정의당 후보만 초청해 토론을 진행해서는 안 된다는 내용으로 가처분 신청서를 제출했다.\n",
    "애초 허 후보 측은 앞선 가처분 신청이 기각된 후 항고를 검토했으나, 항고심 결론까지 상당한 시일이 소요될 것으로 판단해 이날 재신청을 했다.\n",
    "법원은 허 후보의 이번 신청 역시 지난주 허 후보의 신청을 기각한 서울서부지법 민사합의21부(박병태 수석부장판사)에 배당했다. 4자 토론은 당장 이날 오후 8시 지상파 3사에서 생중계될 예정이지만, 재신청 사건 심리기일은 아직 정해지지 않았다.\n",
    "이날 오후 중으로 심리기일이 잡힐 가능성이 희박한 만큼 허 후보의 가처분 재신청이 실제 토론 진행에 영향을 미칠 가능성은 적다는 분석이 나온다.\n",
    "허 후보는 신청 제출 직후 취재진에게 \"(신청이) 기각된다면 전 국민에게 방송사가 엄청난 비난을 받게 될 것\"이라며 \"비례 위성정당을 만든 여야 정치가 허경영까지 탄압해야 하나. 그렇게 자신이 없나\"라고 말했다.\n",
    "앞서 서부지법 민사합의21부는 4자 토론에 허 후보 참여를 배제하는 것이 \"유권자에 유용한 정보를 제공하고 토론·대담을 활성화하기 위한 합리적이고 상당한 차별\"이라며 허 후보의 신청을 기각했다.\n",
    "이날 오후 열리는 4자 토론은 각 당이 대선 후보를 확정한 뒤 처음으로 열리는 방송 토론이다. '양강'인 이재명·윤석열 후보의 양자 토론이 끝내 불발되며 유권자의 이목이 이번 4자 대결에 한층 더 집중되는 양상이다.\n",
    "\"\"\""
   ]
  },
  {
   "cell_type": "code",
   "execution_count": 82,
   "id": "3e768658",
   "metadata": {},
   "outputs": [],
   "source": [
    "p=re.compile(\"(\\\".*\\\")\")"
   ]
  },
  {
   "cell_type": "code",
   "execution_count": 83,
   "id": "4acdb2ec",
   "metadata": {},
   "outputs": [
    {
     "data": {
      "text/plain": [
       "['\"(신청이) 기각된다면 전 국민에게 방송사가 엄청난 비난을 받게 될 것\"이라며 \"비례 위성정당을 만든 여야 정치가 허경영까지 탄압해야 하나. 그렇게 자신이 없나\"',\n",
       " '\"유권자에 유용한 정보를 제공하고 토론·대담을 활성화하기 위한 합리적이고 상당한 차별\"']"
      ]
     },
     "execution_count": 83,
     "metadata": {},
     "output_type": "execute_result"
    }
   ],
   "source": [
    "p.findall(news)"
   ]
  },
  {
   "cell_type": "code",
   "execution_count": 171,
   "id": "39e6ce14",
   "metadata": {},
   "outputs": [],
   "source": [
    "f=open(\"sample.txt\",\"r\")"
   ]
  },
  {
   "cell_type": "code",
   "execution_count": 172,
   "id": "19f2b0b7",
   "metadata": {},
   "outputs": [
    {
     "name": "stdout",
     "output_type": "stream",
     "text": [
      "['# 70\\n', '# 60\\n', '# 55\\n', '# 75\\n', '# 95\\n', '# 90\\n', '# 80\\n', '# 80\\n', '# 85\\n', '# 100']\n"
     ]
    }
   ],
   "source": [
    "data=f.readlines()\n",
    "print(data)"
   ]
  },
  {
   "cell_type": "code",
   "execution_count": 181,
   "id": "aed5997e",
   "metadata": {},
   "outputs": [],
   "source": [
    "p=re.compile(\"\\d+\")\n",
    "score=[]"
   ]
  },
  {
   "cell_type": "code",
   "execution_count": 182,
   "id": "d4083e40",
   "metadata": {},
   "outputs": [
    {
     "name": "stdout",
     "output_type": "stream",
     "text": [
      "['70', '60', '55', '75', '95', '90', '80', '80', '85', '100']\n"
     ]
    }
   ],
   "source": [
    "for i in data:\n",
    "    a=p.findall(i)\n",
    "    score=score+a\n",
    "print(score)"
   ]
  },
  {
   "cell_type": "code",
   "execution_count": 183,
   "id": "0d4bb5de",
   "metadata": {},
   "outputs": [],
   "source": [
    "sum=0"
   ]
  },
  {
   "cell_type": "code",
   "execution_count": 184,
   "id": "add46916",
   "metadata": {},
   "outputs": [
    {
     "name": "stdout",
     "output_type": "stream",
     "text": [
      "79.0\n"
     ]
    }
   ],
   "source": [
    "for i in score:\n",
    "    sum+=int(i)\n",
    "print(sum/len(score))"
   ]
  },
  {
   "cell_type": "code",
   "execution_count": 185,
   "id": "ad3a7cf7",
   "metadata": {},
   "outputs": [
    {
     "data": {
      "text/plain": [
       "['70', '60', '55', '75', '95', '90', '80', '80', '85', '100']"
      ]
     },
     "execution_count": 185,
     "metadata": {},
     "output_type": "execute_result"
    }
   ],
   "source": [
    "score"
   ]
  },
  {
   "cell_type": "code",
   "execution_count": 135,
   "id": "a864ba15",
   "metadata": {},
   "outputs": [
    {
     "name": "stdout",
     "output_type": "stream",
     "text": [
      "1580\n"
     ]
    }
   ],
   "source": []
  },
  {
   "cell_type": "code",
   "execution_count": null,
   "id": "7b723b7c",
   "metadata": {},
   "outputs": [],
   "source": []
  },
  {
   "cell_type": "code",
   "execution_count": null,
   "id": "40101ca4",
   "metadata": {},
   "outputs": [],
   "source": []
  },
  {
   "cell_type": "code",
   "execution_count": null,
   "id": "fb11c32a",
   "metadata": {},
   "outputs": [],
   "source": []
  },
  {
   "cell_type": "code",
   "execution_count": null,
   "id": "cd47e1c9",
   "metadata": {},
   "outputs": [],
   "source": []
  },
  {
   "cell_type": "code",
   "execution_count": null,
   "id": "3e89beef",
   "metadata": {},
   "outputs": [],
   "source": []
  }
 ],
 "metadata": {
  "kernelspec": {
   "display_name": "Python 3 (ipykernel)",
   "language": "python",
   "name": "python3"
  },
  "language_info": {
   "codemirror_mode": {
    "name": "ipython",
    "version": 3
   },
   "file_extension": ".py",
   "mimetype": "text/x-python",
   "name": "python",
   "nbconvert_exporter": "python",
   "pygments_lexer": "ipython3",
   "version": "3.9.7"
  }
 },
 "nbformat": 4,
 "nbformat_minor": 5
}
