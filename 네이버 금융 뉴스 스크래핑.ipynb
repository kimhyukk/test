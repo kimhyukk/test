{
 "cells": [
  {
   "cell_type": "code",
   "execution_count": 134,
   "id": "9927ccbd",
   "metadata": {},
   "outputs": [
    {
     "name": "stderr",
     "output_type": "stream",
     "text": [
      "\n",
      "\n",
      "====== WebDriver manager ======\n",
      "Current google-chrome version is 97.0.4692\n",
      "Get LATEST chromedriver version for 97.0.4692 google-chrome\n",
      "Driver [C:\\Users\\rlagu\\.wdm\\drivers\\chromedriver\\win32\\97.0.4692.71\\chromedriver.exe] found in cache\n"
     ]
    }
   ],
   "source": [
    "from selenium import webdriver\n",
    "from webdriver_manager.chrome import ChromeDriverManager\n",
    "driver=webdriver.Chrome(ChromeDriverManager().install())"
   ]
  },
  {
   "cell_type": "code",
   "execution_count": 135,
   "id": "e3eea2d1",
   "metadata": {},
   "outputs": [],
   "source": [
    "from bs4 import BeautifulSoup"
   ]
  },
  {
   "cell_type": "code",
   "execution_count": 105,
   "id": "716720bd",
   "metadata": {},
   "outputs": [],
   "source": [
    "url=\"https://finance.naver.com/\"\n",
    "driver.get(url)"
   ]
  },
  {
   "cell_type": "code",
   "execution_count": 106,
   "id": "f22f7117",
   "metadata": {},
   "outputs": [],
   "source": [
    "#주요 뉴스\n",
    "#<em class=\"btn_more4\"><span class=\"blind\">주요뉴스 더보기</span></em>\n",
    "driver.find_element_by_css_selector(\"em.btn_more4\").click()"
   ]
  },
  {
   "cell_type": "code",
   "execution_count": 107,
   "id": "ca6f25c8",
   "metadata": {},
   "outputs": [],
   "source": [
    "html=driver.page_source\n",
    "soup=BeautifulSoup(html,'html.parser')"
   ]
  },
  {
   "cell_type": "code",
   "execution_count": 108,
   "id": "64ca4a92",
   "metadata": {},
   "outputs": [
    {
     "data": {
      "text/plain": [
       "[<a href=\"/news/news_read.naver?article_id=0004013501&amp;office_id=011&amp;mode=mainnews&amp;type=&amp;date=2022-01-28&amp;page=1\">반등 시도하는 코스피·코스닥 지수[오전시황]</a>,\n",
       " <a href=\"/news/news_read.naver?article_id=0005136061&amp;office_id=018&amp;mode=mainnews&amp;type=&amp;date=2022-01-28&amp;page=1\">[외환브리핑]경제지표 호조 '매파 연준' 지지…환율, 1200원대 이틀 연속 상승</a>,\n",
       " <a href=\"/news/news_read.naver?article_id=0005037268&amp;office_id=277&amp;mode=mainnews&amp;type=&amp;date=2022-01-28&amp;page=1\">[굿모닝 증시]FOMC 이후에도 변동장…\"국내 증시, 추가 하락 가능성 낮아\"</a>,\n",
       " <a href=\"/news/news_read.naver?article_id=0004702141&amp;office_id=008&amp;mode=mainnews&amp;type=&amp;date=2022-01-28&amp;page=1\">'롤러코스터' 美증시...테슬라 11%↓인텔 7%↓[뉴욕마감](종합)</a>,\n",
       " <a href=\"/news/news_read.naver?article_id=0004702136&amp;office_id=008&amp;mode=mainnews&amp;type=&amp;date=2022-01-28&amp;page=1\">'변동성' 커진 美증시...넷플릭스 7%↑ 테슬라 11%↓[뉴욕마감]</a>,\n",
       " <a href=\"/news/news_read.naver?article_id=0004658274&amp;office_id=015&amp;mode=mainnews&amp;type=&amp;date=2022-01-28&amp;page=1\">뉴욕증시, FOMC 소화 속 하락…아침 영하권 추위 [모닝브리핑]</a>,\n",
       " <a href=\"/news/news_read.naver?article_id=0005037220&amp;office_id=277&amp;mode=mainnews&amp;type=&amp;date=2022-01-28&amp;page=1\">[일일펀드동향] 국내 채권형펀드 4거래일간 4775억원 순유출</a>,\n",
       " <a href=\"/news/news_read.naver?article_id=0004013436&amp;office_id=011&amp;mode=mainnews&amp;type=&amp;date=2022-01-28&amp;page=1\">연준 공격적 금리인상 우려에 나스닥 -1.40% [데일리 국제금융시장]</a>,\n",
       " <a href=\"/news/news_read.naver?article_id=0012947192&amp;office_id=001&amp;mode=mainnews&amp;type=&amp;date=2022-01-28&amp;page=1\">[유럽증시] 미 GDP 개선 속 상승</a>]"
      ]
     },
     "execution_count": 108,
     "metadata": {},
     "output_type": "execute_result"
    }
   ],
   "source": [
    "soup.select(\"dd.articleSubject > a\")"
   ]
  },
  {
   "cell_type": "code",
   "execution_count": 109,
   "id": "33d05805",
   "metadata": {},
   "outputs": [],
   "source": [
    "newslist=soup.select(\"ul.newsList > li\")"
   ]
  },
  {
   "cell_type": "code",
   "execution_count": 110,
   "id": "90293699",
   "metadata": {},
   "outputs": [
    {
     "data": {
      "text/plain": [
       "[<a href=\"/news/news_read.naver?article_id=0004013501&amp;office_id=011&amp;mode=mainnews&amp;type=&amp;date=2022-01-28&amp;page=1\">반등 시도하는 코스피·코스닥 지수[오전시황]</a>,\n",
       " <a href=\"/news/news_read.naver?article_id=0005136061&amp;office_id=018&amp;mode=mainnews&amp;type=&amp;date=2022-01-28&amp;page=1\">[외환브리핑]경제지표 호조 '매파 연준' 지지…환율, 1200원대 이틀 연속 상승</a>,\n",
       " <a href=\"/news/news_read.naver?article_id=0005037268&amp;office_id=277&amp;mode=mainnews&amp;type=&amp;date=2022-01-28&amp;page=1\">[굿모닝 증시]FOMC 이후에도 변동장…\"국내 증시, 추가 하락 가능성 낮아\"</a>,\n",
       " <a href=\"/news/news_read.naver?article_id=0004702141&amp;office_id=008&amp;mode=mainnews&amp;type=&amp;date=2022-01-28&amp;page=1\">'롤러코스터' 美증시...테슬라 11%↓인텔 7%↓[뉴욕마감](종합)</a>,\n",
       " <a href=\"/news/news_read.naver?article_id=0004702136&amp;office_id=008&amp;mode=mainnews&amp;type=&amp;date=2022-01-28&amp;page=1\">'변동성' 커진 美증시...넷플릭스 7%↑ 테슬라 11%↓[뉴욕마감]</a>,\n",
       " <a href=\"/news/news_read.naver?article_id=0004658274&amp;office_id=015&amp;mode=mainnews&amp;type=&amp;date=2022-01-28&amp;page=1\">뉴욕증시, FOMC 소화 속 하락…아침 영하권 추위 [모닝브리핑]</a>,\n",
       " <a href=\"/news/news_read.naver?article_id=0005037220&amp;office_id=277&amp;mode=mainnews&amp;type=&amp;date=2022-01-28&amp;page=1\">[일일펀드동향] 국내 채권형펀드 4거래일간 4775억원 순유출</a>,\n",
       " <a href=\"/news/news_read.naver?article_id=0004013436&amp;office_id=011&amp;mode=mainnews&amp;type=&amp;date=2022-01-28&amp;page=1\">연준 공격적 금리인상 우려에 나스닥 -1.40% [데일리 국제금융시장]</a>,\n",
       " <a href=\"/news/news_read.naver?article_id=0012947192&amp;office_id=001&amp;mode=mainnews&amp;type=&amp;date=2022-01-28&amp;page=1\">[유럽증시] 미 GDP 개선 속 상승</a>]"
      ]
     },
     "execution_count": 110,
     "metadata": {},
     "output_type": "execute_result"
    }
   ],
   "source": [
    "soup.select(\"dd.articleSubject > a\")"
   ]
  },
  {
   "cell_type": "code",
   "execution_count": 111,
   "id": "beb7adf2",
   "metadata": {},
   "outputs": [
    {
     "data": {
      "text/plain": [
       "[<span class=\"press\">머니투데이 </span>,\n",
       " <span class=\"press\">서울경제 </span>,\n",
       " <span class=\"press\">이데일리 </span>,\n",
       " <span class=\"press\">아시아경제 </span>,\n",
       " <span class=\"press\">머니투데이 </span>,\n",
       " <span class=\"press\">머니투데이 </span>,\n",
       " <span class=\"press\">한국경제 </span>,\n",
       " <span class=\"press\">아시아경제 </span>,\n",
       " <span class=\"press\">서울경제 </span>,\n",
       " <span class=\"press\">연합뉴스 </span>]"
      ]
     },
     "execution_count": 111,
     "metadata": {},
     "output_type": "execute_result"
    }
   ],
   "source": [
    "soup.select(\"span.press\")"
   ]
  },
  {
   "cell_type": "code",
   "execution_count": 112,
   "id": "f0b11e69",
   "metadata": {},
   "outputs": [
    {
     "data": {
      "text/plain": [
       "[<span class=\"wdate\">2022-01-28 11:35:42</span>,\n",
       " <span class=\"wdate\">2022-01-28 09:19:04</span>,\n",
       " <span class=\"wdate\">2022-01-28 08:23:01</span>,\n",
       " <span class=\"wdate\">2022-01-28 08:11:44</span>,\n",
       " <span class=\"wdate\">2022-01-28 07:34:09</span>,\n",
       " <span class=\"wdate\">2022-01-28 07:15:34</span>,\n",
       " <span class=\"wdate\">2022-01-28 06:58:01</span>,\n",
       " <span class=\"wdate\">2022-01-28 06:44:13</span>,\n",
       " <span class=\"wdate\">2022-01-28 06:09:01</span>,\n",
       " <span class=\"wdate\">2022-01-28 02:55:10</span>]"
      ]
     },
     "execution_count": 112,
     "metadata": {},
     "output_type": "execute_result"
    }
   ],
   "source": [
    "soup.select(\"span.wdate\")"
   ]
  },
  {
   "cell_type": "code",
   "execution_count": 113,
   "id": "3d4e176b",
   "metadata": {},
   "outputs": [
    {
     "data": {
      "text/plain": [
       "[['[Asia오전]내릴 만큼 내렸나…日 저가 매수세에 2.1% 급등', '머니투데이 ', '2022-01-28 11:35:42'],\n",
       " ['반등 시도하는 코스피·코스닥 지수[오전시황]', '서울경제 ', '2022-01-28 09:19:04'],\n",
       " [\"[외환브리핑]경제지표 호조 '매파 연준' 지지…환율, 1200원대 이틀 연속 상승\",\n",
       "  '이데일리 ',\n",
       "  '2022-01-28 08:23:01'],\n",
       " ['[굿모닝 증시]FOMC 이후에도 변동장…\"국내 증시, 추가 하락 가능성 낮아\"',\n",
       "  '아시아경제 ',\n",
       "  '2022-01-28 08:11:44'],\n",
       " [\"'롤러코스터' 美증시...테슬라 11%↓인텔 7%↓[뉴욕마감](종합)\", '머니투데이 ', '2022-01-28 07:34:09'],\n",
       " [\"'변동성' 커진 美증시...넷플릭스 7%↑ 테슬라 11%↓[뉴욕마감]\", '머니투데이 ', '2022-01-28 07:15:34'],\n",
       " ['뉴욕증시, FOMC 소화 속 하락…아침 영하권 추위 [모닝브리핑]', '한국경제 ', '2022-01-28 06:58:01'],\n",
       " ['[일일펀드동향] 국내 채권형펀드 4거래일간 4775억원 순유출', '아시아경제 ', '2022-01-28 06:44:13'],\n",
       " ['연준 공격적 금리인상 우려에 나스닥 -1.40% [데일리 국제금융시장]', '서울경제 ', '2022-01-28 06:09:01'],\n",
       " ['[유럽증시] 미 GDP 개선 속 상승', '연합뉴스 ', '2022-01-28 02:55:10']]"
      ]
     },
     "execution_count": 113,
     "metadata": {},
     "output_type": "execute_result"
    }
   ],
   "source": [
    "newsdata=[]\n",
    "for news in newslist:\n",
    "    try:\n",
    "        title=news.select_one(\"dd.articleSubject > a\").text\n",
    "    except:\n",
    "        title=news.select_one(\"dt.articleSubject > a\").text\n",
    "    npc=news.select_one(\"span.press\").text\n",
    "    time=news.select_one(\"span.wdate\").text\n",
    "    newsdata.append([title,npc,time])\n",
    "\n",
    "newsdata"
   ]
  },
  {
   "cell_type": "code",
   "execution_count": 84,
   "id": "be29ce11",
   "metadata": {},
   "outputs": [],
   "source": [
    "def get_url_date(date):\n",
    "    return \"https://finance.naver.com/news/mainnews.naver?date={}\".format(date)"
   ]
  },
  {
   "cell_type": "code",
   "execution_count": 85,
   "id": "f069bd4e",
   "metadata": {},
   "outputs": [
    {
     "name": "stdout",
     "output_type": "stream",
     "text": [
      "https://finance.naver.com/news/mainnews.naver?date=2022-01-26\n"
     ]
    }
   ],
   "source": [
    "url=get_url_date(\"2022-01-26\")\n",
    "print(url)"
   ]
  },
  {
   "cell_type": "code",
   "execution_count": 86,
   "id": "d6636f77",
   "metadata": {},
   "outputs": [],
   "source": [
    "driver.get(url)"
   ]
  },
  {
   "cell_type": "code",
   "execution_count": 87,
   "id": "34dccb62",
   "metadata": {},
   "outputs": [],
   "source": [
    "html=driver.page_source\n",
    "soup=BeautifulSoup(html,'html.parser')"
   ]
  },
  {
   "cell_type": "code",
   "execution_count": 127,
   "id": "63a6e37e",
   "metadata": {},
   "outputs": [],
   "source": [
    "newslist=soup.select(\"ul.newsList > li\")"
   ]
  },
  {
   "cell_type": "code",
   "execution_count": 128,
   "id": "e8495a37",
   "metadata": {},
   "outputs": [
    {
     "data": {
      "text/plain": [
       "[['[Asia오전]내릴 만큼 내렸나…日 저가 매수세에 2.1% 급등', '머니투데이 ', '2022-01-28 11:35:42'],\n",
       " ['반등 시도하는 코스피·코스닥 지수[오전시황]', '서울경제 ', '2022-01-28 09:19:04'],\n",
       " [\"[외환브리핑]경제지표 호조 '매파 연준' 지지…환율, 1200원대 이틀 연속 상승\",\n",
       "  '이데일리 ',\n",
       "  '2022-01-28 08:23:01'],\n",
       " ['[굿모닝 증시]FOMC 이후에도 변동장…\"국내 증시, 추가 하락 가능성 낮아\"',\n",
       "  '아시아경제 ',\n",
       "  '2022-01-28 08:11:44'],\n",
       " [\"'롤러코스터' 美증시...테슬라 11%↓인텔 7%↓[뉴욕마감](종합)\", '머니투데이 ', '2022-01-28 07:34:09'],\n",
       " [\"'변동성' 커진 美증시...넷플릭스 7%↑ 테슬라 11%↓[뉴욕마감]\", '머니투데이 ', '2022-01-28 07:15:34'],\n",
       " ['뉴욕증시, FOMC 소화 속 하락…아침 영하권 추위 [모닝브리핑]', '한국경제 ', '2022-01-28 06:58:01'],\n",
       " ['[일일펀드동향] 국내 채권형펀드 4거래일간 4775억원 순유출', '아시아경제 ', '2022-01-28 06:44:13'],\n",
       " ['연준 공격적 금리인상 우려에 나스닥 -1.40% [데일리 국제금융시장]', '서울경제 ', '2022-01-28 06:09:01'],\n",
       " ['[유럽증시] 미 GDP 개선 속 상승', '연합뉴스 ', '2022-01-28 02:55:10']]"
      ]
     },
     "execution_count": 128,
     "metadata": {},
     "output_type": "execute_result"
    }
   ],
   "source": [
    "newsdata=[]\n",
    "for news in newslist:\n",
    "    try:\n",
    "        title=news.select_one(\"dd.articleSubject > a\").text\n",
    "    except:\n",
    "        title=news.select_one(\"dt.articleSubject > a\").text\n",
    "    npc=news.select_one(\"span.press\").text\n",
    "    time=news.select_one(\"span.wdate\").text\n",
    "    newsdata.append([title,npc,time])\n",
    "\n",
    "newsdata"
   ]
  },
  {
   "cell_type": "code",
   "execution_count": 120,
   "id": "ea5c931e",
   "metadata": {},
   "outputs": [
    {
     "data": {
      "text/plain": [
       "2022"
      ]
     },
     "execution_count": 120,
     "metadata": {},
     "output_type": "execute_result"
    }
   ],
   "source": [
    "import datetime\n",
    "d=datetime.datetime.now()\n",
    "d.day\n",
    "d.month\n",
    "d.year"
   ]
  },
  {
   "cell_type": "code",
   "execution_count": 124,
   "id": "83c966d4",
   "metadata": {},
   "outputs": [],
   "source": [
    "today=str(d.year)+\"-\"+str(d.month)+\"-\"+str(d.day)"
   ]
  },
  {
   "cell_type": "code",
   "execution_count": 125,
   "id": "09364ab8",
   "metadata": {},
   "outputs": [
    {
     "data": {
      "text/plain": [
       "'2022-1-28'"
      ]
     },
     "execution_count": 125,
     "metadata": {},
     "output_type": "execute_result"
    }
   ],
   "source": [
    "today"
   ]
  },
  {
   "cell_type": "code",
   "execution_count": 126,
   "id": "23ac1800",
   "metadata": {},
   "outputs": [
    {
     "data": {
      "text/plain": [
       "'https://finance.naver.com/news/mainnews.naver?date=2022-1-28'"
      ]
     },
     "execution_count": 126,
     "metadata": {},
     "output_type": "execute_result"
    }
   ],
   "source": [
    "get_url_date(today)"
   ]
  },
  {
   "cell_type": "code",
   "execution_count": null,
   "id": "6ead77a2",
   "metadata": {},
   "outputs": [],
   "source": [
    "url=get_url_date(today)"
   ]
  },
  {
   "cell_type": "code",
   "execution_count": null,
   "id": "c85aad7f",
   "metadata": {},
   "outputs": [],
   "source": [
    "html=driver.page_source\n",
    "soup=BeautifulSoup(html,'html.parser')"
   ]
  },
  {
   "cell_type": "code",
   "execution_count": 129,
   "id": "3b86b1a6",
   "metadata": {},
   "outputs": [],
   "source": [
    "newslist=soup.select(\"ul.newsList > li\")"
   ]
  },
  {
   "cell_type": "code",
   "execution_count": null,
   "id": "c360db82",
   "metadata": {},
   "outputs": [],
   "source": [
    "newsdata=[]\n",
    "for news in newslist:\n",
    "    try:\n",
    "        title=news.select_one(\"dd.articleSubject > a\").text\n",
    "    except:\n",
    "        title=news.select_one(\"dt.articleSubject > a\").text\n",
    "    npc=news.select_one(\"span.press\").text\n",
    "    time=news.select_one(\"span.wdate\").text\n",
    "    newsdata.append([title,npc,time])"
   ]
  },
  {
   "cell_type": "code",
   "execution_count": 188,
   "id": "c3cb448a",
   "metadata": {},
   "outputs": [],
   "source": [
    "code=[\"005090\",\"035720\",\"005930\"]\n",
    "#code=\"005090\""
   ]
  },
  {
   "cell_type": "code",
   "execution_count": 139,
   "id": "34735dd8",
   "metadata": {},
   "outputs": [],
   "source": [
    "url=\"https://finance.naver.com/item/main.naver?code={}\".format(code)\n",
    "driver.get(url)"
   ]
  },
  {
   "cell_type": "code",
   "execution_count": 140,
   "id": "89d4fc75",
   "metadata": {},
   "outputs": [],
   "source": [
    "html=driver.page_source\n",
    "soup=BeautifulSoup(html,'html.parser')"
   ]
  },
  {
   "cell_type": "code",
   "execution_count": 160,
   "id": "a13a0c07",
   "metadata": {},
   "outputs": [
    {
     "data": {
      "text/plain": [
       "'49,750'"
      ]
     },
     "execution_count": 160,
     "metadata": {},
     "output_type": "execute_result"
    }
   ],
   "source": [
    "soup.select_one(\"p.no_today\").text.strip(\"\\n\")"
   ]
  },
  {
   "cell_type": "code",
   "execution_count": 152,
   "id": "4d3da162",
   "metadata": {},
   "outputs": [
    {
     "data": {
      "text/plain": [
       "'SGC에너지'"
      ]
     },
     "execution_count": 152,
     "metadata": {},
     "output_type": "execute_result"
    }
   ],
   "source": [
    "soup.select_one(\"h2>a\").text"
   ]
  },
  {
   "cell_type": "code",
   "execution_count": 164,
   "id": "ae0d2f0b",
   "metadata": {},
   "outputs": [],
   "source": [
    "h=str(soup.select_one(\"p.no_exday\").text.strip(\"\\n\")).split(\"\\n\")"
   ]
  },
  {
   "cell_type": "code",
   "execution_count": 171,
   "id": "c7dde883",
   "metadata": {},
   "outputs": [
    {
     "data": {
      "text/plain": [
       "['전일대비', '상승', '1,300', 'l', '', '+', '2.68', '%']"
      ]
     },
     "execution_count": 171,
     "metadata": {},
     "output_type": "execute_result"
    }
   ],
   "source": [
    "h.remove('')\n",
    "h"
   ]
  },
  {
   "cell_type": "code",
   "execution_count": 172,
   "id": "67d778fc",
   "metadata": {},
   "outputs": [],
   "source": [
    "h.remove('l')"
   ]
  },
  {
   "cell_type": "code",
   "execution_count": 174,
   "id": "70372511",
   "metadata": {},
   "outputs": [],
   "source": [
    "h.remove('')"
   ]
  },
  {
   "cell_type": "code",
   "execution_count": 175,
   "id": "9443caf0",
   "metadata": {},
   "outputs": [
    {
     "data": {
      "text/plain": [
       "['전일대비', '상승', '1,300', '+', '2.68', '%']"
      ]
     },
     "execution_count": 175,
     "metadata": {},
     "output_type": "execute_result"
    }
   ],
   "source": [
    "h"
   ]
  },
  {
   "cell_type": "code",
   "execution_count": 178,
   "id": "26b9a047",
   "metadata": {},
   "outputs": [],
   "source": [
    "g=\" \".join(h)"
   ]
  },
  {
   "cell_type": "code",
   "execution_count": 185,
   "id": "4de6b60c",
   "metadata": {},
   "outputs": [],
   "source": [
    "g\n",
    "import time"
   ]
  },
  {
   "cell_type": "code",
   "execution_count": 192,
   "id": "1c01e263",
   "metadata": {},
   "outputs": [
    {
     "name": "stdout",
     "output_type": "stream",
     "text": [
      "['SGC에너지', '50,100', '전일대비 상승 1,650  + 3.41 %']\n",
      "['카카오', '85,100', '전일대비 상승 2,500  + 3.03 %']\n",
      "['삼성전자', '73,300', '전일대비 상승 2,000  + 2.81 %']\n"
     ]
    }
   ],
   "source": [
    "for i in code:\n",
    "    url=\"https://finance.naver.com/item/main.naver?code={}\".format(i)\n",
    "    driver.get(url)\n",
    "    time.sleep(3)\n",
    "    html=driver.page_source\n",
    "    soup=BeautifulSoup(html,'html.parser')\n",
    "    try:\n",
    "        name=soup.select_one(\"h2>a\").text\n",
    "    except:\n",
    "        pass\n",
    "    try:\n",
    "        price=soup.select_one(\"p.no_today\").text.strip(\"\\n\")\n",
    "    except:\n",
    "        pass\n",
    "    h=str(soup.select_one(\"p.no_exday\").text.strip(\"\\n\")).split(\"\\n\")\n",
    "    h.remove('')\n",
    "    h.remove('l')\n",
    "    h.remove('')\n",
    "    g=\" \".join(h)\n",
    "    print([name,price,g])"
   ]
  },
  {
   "cell_type": "code",
   "execution_count": null,
   "id": "8a7a8aa7",
   "metadata": {},
   "outputs": [],
   "source": []
  }
 ],
 "metadata": {
  "kernelspec": {
   "display_name": "Python 3 (ipykernel)",
   "language": "python",
   "name": "python3"
  },
  "language_info": {
   "codemirror_mode": {
    "name": "ipython",
    "version": 3
   },
   "file_extension": ".py",
   "mimetype": "text/x-python",
   "name": "python",
   "nbconvert_exporter": "python",
   "pygments_lexer": "ipython3",
   "version": "3.9.7"
  }
 },
 "nbformat": 4,
 "nbformat_minor": 5
}
