{
 "cells": [
  {
   "cell_type": "code",
   "execution_count": 1,
   "id": "16cceb8d",
   "metadata": {},
   "outputs": [],
   "source": [
    "from bs4 import BeautifulSoup"
   ]
  },
  {
   "cell_type": "code",
   "execution_count": 35,
   "id": "5d967a02",
   "metadata": {},
   "outputs": [],
   "source": [
    "toji=open(\"C:/Users/rlagu/Downloads/toji.html\",\"rt\",encoding='UTF16')"
   ]
  },
  {
   "cell_type": "code",
   "execution_count": 36,
   "id": "6397ff26",
   "metadata": {},
   "outputs": [],
   "source": [
    "soup=BeautifulSoup(toji,'html.parser')"
   ]
  },
  {
   "cell_type": "code",
   "execution_count": 98,
   "id": "5300083c",
   "metadata": {},
   "outputs": [
    {
     "name": "stdout",
     "output_type": "stream",
     "text": [
      "1장 서희(西姬)\n",
      "2장 추적\n",
      "3장 골짜기의 초롱불\n",
      "4장 수수께끼\n",
      "5장 장날\n",
      "6장 마을 아낙들\n",
      "7장 상민 윤보와 중인 문의원\n",
      "8장 오광대(五廣大)\n",
      "9장 소식\n",
      "10장 주막에서 만난 강포수(姜砲手)\n",
      "11장 개명 양반\n",
      "12장 꿈속의 수미산\n",
      "13장 무녀(巫女)\n",
      "14장 악당과 마녀\n",
      "15장 첫 논쟁\n",
      "16장 구전(口傳)\n",
      "17장 습격\n",
      "18장 유혹\n",
      "19장 사자(使者)\n",
      "제2편 추적과 음모\n",
      "1장 사라진 여자\n",
      "2장 윤씨의 비밀\n",
      "3장 실패\n",
      "4장 하늘과 숲이\n",
      "5장 풋사랑\n",
      "6장 음양의 이치\n",
      "7장 암시\n",
      "8장 행패\n",
      "9장 과거의 거울에 비친 풍경\n",
      "10장 멀고 먼 황천길\n",
      "11장 황금의 무지개\n",
      "12장 자수당(子授堂)의 정사(情事)\n",
      "13장 꿈\n"
     ]
    },
    {
     "data": {
      "text/plain": [
       "'제1편 어둠의 발소리'"
      ]
     },
     "execution_count": 98,
     "metadata": {},
     "output_type": "execute_result"
    }
   ],
   "source": [
    "author=soup.select(\"author\")[0].text\n",
    "extend=soup.select(\"extent\")[0].text[:5]\n",
    "publisher=soup.select(\"publisher\")[0].text\n",
    "title=soup.select(\"title\")[0].text[:4]\n",
    "date=soup.select(\"date\")[0].text\n",
    "heads=soup.select(\"head\")\n",
    "heads[0].string\n",
    "for idx in heads[2:]:\n",
    "    k=idx.string\n",
    "    print(k)\n",
    "    \n",
    "heads[0].string"
   ]
  },
  {
   "cell_type": "code",
   "execution_count": 94,
   "id": "ba5df299",
   "metadata": {},
   "outputs": [
    {
     "ename": "ValueError",
     "evalue": "list.remove(x): x not in list",
     "output_type": "error",
     "traceback": [
      "\u001b[1;31m---------------------------------------------------------------------------\u001b[0m",
      "\u001b[1;31mValueError\u001b[0m                                Traceback (most recent call last)",
      "\u001b[1;32m~\\AppData\\Local\\Temp/ipykernel_15760/595535307.py\u001b[0m in \u001b[0;36m<module>\u001b[1;34m\u001b[0m\n\u001b[1;32m----> 1\u001b[1;33m \u001b[0mheads\u001b[0m\u001b[1;33m.\u001b[0m\u001b[0mremove\u001b[0m\u001b[1;33m(\u001b[0m\u001b[1;34m\" <head>서(序)</head>\"\u001b[0m\u001b[1;33m)\u001b[0m\u001b[1;33m\u001b[0m\u001b[1;33m\u001b[0m\u001b[0m\n\u001b[0m",
      "\u001b[1;31mValueError\u001b[0m: list.remove(x): x not in list"
     ]
    }
   ],
   "source": [
    "heads.remove"
   ]
  },
  {
   "cell_type": "code",
   "execution_count": 93,
   "id": "ea196b7f",
   "metadata": {},
   "outputs": [
    {
     "data": {
      "text/plain": [
       "[<head>제1편 어둠의 발소리</head>,\n",
       " <head>서(序)</head>,\n",
       " <head>1장 서희(西姬)</head>,\n",
       " <head>2장 추적</head>,\n",
       " <head>3장 골짜기의 초롱불</head>,\n",
       " <head>4장 수수께끼</head>,\n",
       " <head>5장 장날</head>,\n",
       " <head>6장 마을 아낙들</head>,\n",
       " <head>7장 상민 윤보와 중인 문의원</head>,\n",
       " <head>8장 오광대(五廣大)</head>,\n",
       " <head>9장 소식</head>,\n",
       " <head>10장 주막에서 만난 강포수(姜砲手)</head>,\n",
       " <head>11장 개명 양반</head>,\n",
       " <head>12장 꿈속의 수미산</head>,\n",
       " <head>13장 무녀(巫女)</head>,\n",
       " <head>14장 악당과 마녀</head>,\n",
       " <head>15장 첫 논쟁</head>,\n",
       " <head>16장 구전(口傳)</head>,\n",
       " <head>17장 습격</head>,\n",
       " <head>18장 유혹</head>,\n",
       " <head>19장 사자(使者)</head>,\n",
       " <head>제2편 추적과 음모</head>,\n",
       " <head>1장 사라진 여자</head>,\n",
       " <head>2장 윤씨의 비밀</head>,\n",
       " <head>3장 실패</head>,\n",
       " <head>4장 하늘과 숲이</head>,\n",
       " <head>5장 풋사랑</head>,\n",
       " <head>6장 음양의 이치</head>,\n",
       " <head>7장 암시</head>,\n",
       " <head>8장 행패</head>,\n",
       " <head>9장 과거의 거울에 비친 풍경</head>,\n",
       " <head>10장 멀고 먼 황천길</head>,\n",
       " <head>11장 황금의 무지개</head>,\n",
       " <head>12장 자수당(子授堂)의 정사(情事)</head>,\n",
       " <head>13장 꿈</head>]"
      ]
     },
     "execution_count": 93,
     "metadata": {},
     "output_type": "execute_result"
    }
   ],
   "source": [
    "heads"
   ]
  },
  {
   "cell_type": "code",
   "execution_count": null,
   "id": "acee969a",
   "metadata": {},
   "outputs": [],
   "source": []
  },
  {
   "cell_type": "code",
   "execution_count": null,
   "id": "3a5a4edc",
   "metadata": {},
   "outputs": [],
   "source": []
  },
  {
   "cell_type": "code",
   "execution_count": null,
   "id": "445a8cf6",
   "metadata": {},
   "outputs": [],
   "source": []
  },
  {
   "cell_type": "code",
   "execution_count": null,
   "id": "91973c61",
   "metadata": {},
   "outputs": [],
   "source": []
  },
  {
   "cell_type": "code",
   "execution_count": null,
   "id": "fb1d72d3",
   "metadata": {},
   "outputs": [],
   "source": []
  },
  {
   "cell_type": "code",
   "execution_count": null,
   "id": "c0f67d18",
   "metadata": {},
   "outputs": [],
   "source": []
  },
  {
   "cell_type": "code",
   "execution_count": null,
   "id": "3d0d014e",
   "metadata": {},
   "outputs": [],
   "source": []
  },
  {
   "cell_type": "code",
   "execution_count": null,
   "id": "0a433290",
   "metadata": {},
   "outputs": [],
   "source": []
  },
  {
   "cell_type": "code",
   "execution_count": null,
   "id": "e38d6374",
   "metadata": {},
   "outputs": [],
   "source": []
  },
  {
   "cell_type": "code",
   "execution_count": null,
   "id": "389e906f",
   "metadata": {},
   "outputs": [],
   "source": []
  },
  {
   "cell_type": "code",
   "execution_count": null,
   "id": "0576c949",
   "metadata": {},
   "outputs": [],
   "source": []
  },
  {
   "cell_type": "code",
   "execution_count": null,
   "id": "70206468",
   "metadata": {},
   "outputs": [],
   "source": []
  },
  {
   "cell_type": "code",
   "execution_count": null,
   "id": "73a5ae83",
   "metadata": {},
   "outputs": [],
   "source": []
  },
  {
   "cell_type": "code",
   "execution_count": null,
   "id": "8dc6ee7a",
   "metadata": {},
   "outputs": [],
   "source": []
  },
  {
   "cell_type": "code",
   "execution_count": null,
   "id": "5c1ee924",
   "metadata": {},
   "outputs": [],
   "source": []
  },
  {
   "cell_type": "code",
   "execution_count": null,
   "id": "496158e0",
   "metadata": {},
   "outputs": [],
   "source": []
  },
  {
   "cell_type": "code",
   "execution_count": null,
   "id": "16b36dd4",
   "metadata": {},
   "outputs": [],
   "source": []
  },
  {
   "cell_type": "code",
   "execution_count": null,
   "id": "f4a63ef9",
   "metadata": {},
   "outputs": [],
   "source": []
  },
  {
   "cell_type": "code",
   "execution_count": null,
   "id": "b76e328a",
   "metadata": {},
   "outputs": [],
   "source": []
  },
  {
   "cell_type": "code",
   "execution_count": null,
   "id": "d1f75546",
   "metadata": {},
   "outputs": [],
   "source": []
  },
  {
   "cell_type": "code",
   "execution_count": null,
   "id": "f7549962",
   "metadata": {},
   "outputs": [],
   "source": []
  },
  {
   "cell_type": "code",
   "execution_count": null,
   "id": "1d4bf5f9",
   "metadata": {},
   "outputs": [],
   "source": []
  },
  {
   "cell_type": "code",
   "execution_count": null,
   "id": "b9aac66f",
   "metadata": {},
   "outputs": [],
   "source": []
  }
 ],
 "metadata": {
  "kernelspec": {
   "display_name": "Python 3 (ipykernel)",
   "language": "python",
   "name": "python3"
  },
  "language_info": {
   "codemirror_mode": {
    "name": "ipython",
    "version": 3
   },
   "file_extension": ".py",
   "mimetype": "text/x-python",
   "name": "python",
   "nbconvert_exporter": "python",
   "pygments_lexer": "ipython3",
   "version": "3.9.7"
  }
 },
 "nbformat": 4,
 "nbformat_minor": 5
}
